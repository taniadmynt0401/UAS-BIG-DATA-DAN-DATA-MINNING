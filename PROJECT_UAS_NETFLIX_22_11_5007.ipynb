{
  "nbformat": 4,
  "nbformat_minor": 0,
  "metadata": {
    "colab": {
      "provenance": []
    },
    "kernelspec": {
      "name": "python3",
      "display_name": "Python 3"
    },
    "language_info": {
      "name": "python"
    }
  },
  "cells": [
    {
      "cell_type": "markdown",
      "source": [
        "# **Import Libraries**"
      ],
      "metadata": {
        "id": "Ba-3pXvW7G-X"
      }
    },
    {
      "cell_type": "code",
      "execution_count": null,
      "metadata": {
        "id": "sdVg2pZat2aY"
      },
      "outputs": [],
      "source": [
        "import pandas as pd\n",
        "import numpy as np\n",
        "import seaborn as sns\n",
        "import matplotlib.pyplot as plt\n",
        "from sklearn.model_selection import train_test_split\n",
        "from sklearn.ensemble import RandomForestClassifier\n",
        "from sklearn.metrics import classification_report, confusion_matrix\n",
        "from sklearn.feature_selection import SelectKBest, chi2"
      ]
    },
    {
      "cell_type": "markdown",
      "source": [
        "# **Load Dataset**"
      ],
      "metadata": {
        "id": "0AhKLSJw7NGb"
      }
    },
    {
      "cell_type": "code",
      "source": [
        "file_path = '/content/netflix_titles.csv'\n",
        "data = pd.read_csv(file_path)"
      ],
      "metadata": {
        "id": "B47xG3VAudRv"
      },
      "execution_count": null,
      "outputs": []
    },
    {
      "cell_type": "markdown",
      "source": [
        "# **Data Preprocessing**"
      ],
      "metadata": {
        "id": "i3ww8McA7Vs4"
      }
    },
    {
      "cell_type": "code",
      "source": [
        "data['director'].fillna('Unknown', inplace=True)\n",
        "data['cast'].fillna('Unknown', inplace=True)\n",
        "data['country'].fillna('Unknown', inplace=True)\n",
        "data['date_added'].fillna('Unknown', inplace=True)\n",
        "data['rating'].fillna('Not Rated', inplace=True)\n",
        "data['duration'].fillna('Unknown', inplace=True)\n",
        "\n",
        "\n",
        "data['date_added'] = pd.to_datetime(data['date_added'], errors='coerce')\n",
        "\n",
        "\n",
        "data['duration_numeric'] = data['duration'].str.extract('(\\d+)').astype(float)\n",
        "\n",
        "\n",
        "print(data.info())\n",
        "print(data.head())"
      ],
      "metadata": {
        "colab": {
          "base_uri": "https://localhost:8080/"
        },
        "id": "IBbq_yI8ugeL",
        "outputId": "1b278260-ec29-4828-ed29-d62efbf0d00a"
      },
      "execution_count": null,
      "outputs": [
        {
          "output_type": "stream",
          "name": "stderr",
          "text": [
            "<ipython-input-3-c15800363878>:2: FutureWarning: A value is trying to be set on a copy of a DataFrame or Series through chained assignment using an inplace method.\n",
            "The behavior will change in pandas 3.0. This inplace method will never work because the intermediate object on which we are setting values always behaves as a copy.\n",
            "\n",
            "For example, when doing 'df[col].method(value, inplace=True)', try using 'df.method({col: value}, inplace=True)' or df[col] = df[col].method(value) instead, to perform the operation inplace on the original object.\n",
            "\n",
            "\n",
            "  data['director'].fillna('Unknown', inplace=True)\n",
            "<ipython-input-3-c15800363878>:3: FutureWarning: A value is trying to be set on a copy of a DataFrame or Series through chained assignment using an inplace method.\n",
            "The behavior will change in pandas 3.0. This inplace method will never work because the intermediate object on which we are setting values always behaves as a copy.\n",
            "\n",
            "For example, when doing 'df[col].method(value, inplace=True)', try using 'df.method({col: value}, inplace=True)' or df[col] = df[col].method(value) instead, to perform the operation inplace on the original object.\n",
            "\n",
            "\n",
            "  data['cast'].fillna('Unknown', inplace=True)\n",
            "<ipython-input-3-c15800363878>:4: FutureWarning: A value is trying to be set on a copy of a DataFrame or Series through chained assignment using an inplace method.\n",
            "The behavior will change in pandas 3.0. This inplace method will never work because the intermediate object on which we are setting values always behaves as a copy.\n",
            "\n",
            "For example, when doing 'df[col].method(value, inplace=True)', try using 'df.method({col: value}, inplace=True)' or df[col] = df[col].method(value) instead, to perform the operation inplace on the original object.\n",
            "\n",
            "\n",
            "  data['country'].fillna('Unknown', inplace=True)\n",
            "<ipython-input-3-c15800363878>:5: FutureWarning: A value is trying to be set on a copy of a DataFrame or Series through chained assignment using an inplace method.\n",
            "The behavior will change in pandas 3.0. This inplace method will never work because the intermediate object on which we are setting values always behaves as a copy.\n",
            "\n",
            "For example, when doing 'df[col].method(value, inplace=True)', try using 'df.method({col: value}, inplace=True)' or df[col] = df[col].method(value) instead, to perform the operation inplace on the original object.\n",
            "\n",
            "\n",
            "  data['date_added'].fillna('Unknown', inplace=True)\n",
            "<ipython-input-3-c15800363878>:6: FutureWarning: A value is trying to be set on a copy of a DataFrame or Series through chained assignment using an inplace method.\n",
            "The behavior will change in pandas 3.0. This inplace method will never work because the intermediate object on which we are setting values always behaves as a copy.\n",
            "\n",
            "For example, when doing 'df[col].method(value, inplace=True)', try using 'df.method({col: value}, inplace=True)' or df[col] = df[col].method(value) instead, to perform the operation inplace on the original object.\n",
            "\n",
            "\n",
            "  data['rating'].fillna('Not Rated', inplace=True)\n",
            "<ipython-input-3-c15800363878>:7: FutureWarning: A value is trying to be set on a copy of a DataFrame or Series through chained assignment using an inplace method.\n",
            "The behavior will change in pandas 3.0. This inplace method will never work because the intermediate object on which we are setting values always behaves as a copy.\n",
            "\n",
            "For example, when doing 'df[col].method(value, inplace=True)', try using 'df.method({col: value}, inplace=True)' or df[col] = df[col].method(value) instead, to perform the operation inplace on the original object.\n",
            "\n",
            "\n",
            "  data['duration'].fillna('Unknown', inplace=True)\n"
          ]
        },
        {
          "output_type": "stream",
          "name": "stdout",
          "text": [
            "<class 'pandas.core.frame.DataFrame'>\n",
            "RangeIndex: 8807 entries, 0 to 8806\n",
            "Data columns (total 13 columns):\n",
            " #   Column            Non-Null Count  Dtype         \n",
            "---  ------            --------------  -----         \n",
            " 0   show_id           8807 non-null   object        \n",
            " 1   type              8807 non-null   object        \n",
            " 2   title             8807 non-null   object        \n",
            " 3   director          8807 non-null   object        \n",
            " 4   cast              8807 non-null   object        \n",
            " 5   country           8807 non-null   object        \n",
            " 6   date_added        8709 non-null   datetime64[ns]\n",
            " 7   release_year      8807 non-null   int64         \n",
            " 8   rating            8807 non-null   object        \n",
            " 9   duration          8807 non-null   object        \n",
            " 10  listed_in         8807 non-null   object        \n",
            " 11  description       8807 non-null   object        \n",
            " 12  duration_numeric  8804 non-null   float64       \n",
            "dtypes: datetime64[ns](1), float64(1), int64(1), object(10)\n",
            "memory usage: 894.6+ KB\n",
            "None\n",
            "  show_id     type                  title         director  \\\n",
            "0      s1    Movie   Dick Johnson Is Dead  Kirsten Johnson   \n",
            "1      s2  TV Show          Blood & Water          Unknown   \n",
            "2      s3  TV Show              Ganglands  Julien Leclercq   \n",
            "3      s4  TV Show  Jailbirds New Orleans          Unknown   \n",
            "4      s5  TV Show           Kota Factory          Unknown   \n",
            "\n",
            "                                                cast        country  \\\n",
            "0                                            Unknown  United States   \n",
            "1  Ama Qamata, Khosi Ngema, Gail Mabalane, Thaban...   South Africa   \n",
            "2  Sami Bouajila, Tracy Gotoas, Samuel Jouy, Nabi...        Unknown   \n",
            "3                                            Unknown        Unknown   \n",
            "4  Mayur More, Jitendra Kumar, Ranjan Raj, Alam K...          India   \n",
            "\n",
            "  date_added  release_year rating   duration  \\\n",
            "0 2021-09-25          2020  PG-13     90 min   \n",
            "1 2021-09-24          2021  TV-MA  2 Seasons   \n",
            "2 2021-09-24          2021  TV-MA   1 Season   \n",
            "3 2021-09-24          2021  TV-MA   1 Season   \n",
            "4 2021-09-24          2021  TV-MA  2 Seasons   \n",
            "\n",
            "                                           listed_in  \\\n",
            "0                                      Documentaries   \n",
            "1    International TV Shows, TV Dramas, TV Mysteries   \n",
            "2  Crime TV Shows, International TV Shows, TV Act...   \n",
            "3                             Docuseries, Reality TV   \n",
            "4  International TV Shows, Romantic TV Shows, TV ...   \n",
            "\n",
            "                                         description  duration_numeric  \n",
            "0  As her father nears the end of his life, filmm...              90.0  \n",
            "1  After crossing paths at a party, a Cape Town t...               2.0  \n",
            "2  To protect his family from a powerful drug lor...               1.0  \n",
            "3  Feuds, flirtations and toilet talk go down amo...               1.0  \n",
            "4  In a city of coaching centers known to train I...               2.0  \n"
          ]
        }
      ]
    },
    {
      "cell_type": "markdown",
      "source": [
        "# **Exploratory Data Analysis (EDA)**"
      ],
      "metadata": {
        "id": "6I0S4Cag7kGd"
      }
    },
    {
      "cell_type": "code",
      "source": [
        "sns.countplot(x='type', data=data, palette='viridis')\n",
        "plt.title('Distribution of Content Type')\n",
        "plt.show()\n",
        "\n",
        "\n",
        "sns.histplot(data['release_year'], kde=False, bins=30, color='blue')\n",
        "plt.title('Distribution of Release Year')\n",
        "plt.xlabel('Release Year')\n",
        "plt.ylabel('Count')\n",
        "plt.show()\n",
        "\n",
        "\n",
        "movies = data[data['type'] == 'Movie']\n",
        "tv_shows = data[data['type'] == 'TV Show']\n",
        "\n",
        "sns.histplot(movies['duration_numeric'].dropna(), bins=20, color='green', label='Movies')\n",
        "sns.histplot(tv_shows['duration_numeric'].dropna(), bins=20, color='red', label='TV Shows')\n",
        "plt.legend()\n",
        "plt.title('Duration Analysis')\n",
        "plt.xlabel('Duration')\n",
        "plt.ylabel('Count')\n",
        "plt.show()"
      ],
      "metadata": {
        "colab": {
          "base_uri": "https://localhost:8080/",
          "height": 1000
        },
        "id": "f-u6boIMujHI",
        "outputId": "b17740a2-2620-4614-ef79-e2cfd4fcffd2"
      },
      "execution_count": null,
      "outputs": [
        {
          "output_type": "stream",
          "name": "stderr",
          "text": [
            "<ipython-input-4-12d33500fc5f>:2: FutureWarning: \n",
            "\n",
            "Passing `palette` without assigning `hue` is deprecated and will be removed in v0.14.0. Assign the `x` variable to `hue` and set `legend=False` for the same effect.\n",
            "\n",
            "  sns.countplot(x='type', data=data, palette='viridis')\n"
          ]
        },
        {
          "output_type": "display_data",
          "data": {
            "text/plain": [
              "<Figure size 640x480 with 1 Axes>"
            ],
            "image/png": "[encoded data removed]"
          },
          "metadata": {}
        },
        {
          "output_type": "display_data",
          "data": {
            "text/plain": [
              "<Figure size 640x480 with 1 Axes>"
            ],
            "image/png": "[encoded data removed]"
          },
          "metadata": {}
        },
        {
          "output_type": "display_data",
          "data": {
            "text/plain": [
              "<Figure size 640x480 with 1 Axes>"
            ],
            "image/png": "[encoded data removed]"
          },
          "metadata": {}
        }
      ]
    },
    {
      "cell_type": "markdown",
      "source": [
        "# **Feature Selection**"
      ],
      "metadata": {
        "id": "D-8pS5ze7qhR"
      }
    },
    {
      "cell_type": "code",
      "source": [
        "X = data[['release_year', 'duration_numeric']]\n",
        "X.fillna(0, inplace=True)\n",
        "y = data['type'].map({'Movie': 0, 'TV Show': 1})\n",
        "\n",
        "\n",
        "selector = SelectKBest(chi2, k=2)\n",
        "X_selected = selector.fit_transform(X, y)\n",
        "print('Selected Features:', selector.get_support(indices=True))"
      ],
      "metadata": {
        "colab": {
          "base_uri": "https://localhost:8080/"
        },
        "id": "6_Cmu8qEuoSQ",
        "outputId": "c0600ba3-5def-4350-8c87-5a954c11c175"
      },
      "execution_count": null,
      "outputs": [
        {
          "output_type": "stream",
          "name": "stdout",
          "text": [
            "Selected Features: [0 1]\n"
          ]
        },
        {
          "output_type": "stream",
          "name": "stderr",
          "text": [
            "<ipython-input-5-5bc2757e9d93>:3: SettingWithCopyWarning: \n",
            "A value is trying to be set on a copy of a slice from a DataFrame\n",
            "\n",
            "See the caveats in the documentation: https://pandas.pydata.org/pandas-docs/stable/user_guide/indexing.html#returning-a-view-versus-a-copy\n",
            "  X.fillna(0, inplace=True)\n"
          ]
        }
      ]
    },
    {
      "cell_type": "markdown",
      "source": [
        "# **Modeling**"
      ],
      "metadata": {
        "id": "A7rMCfu-7y6I"
      }
    },
    {
      "cell_type": "code",
      "source": [
        "X_train, X_test, y_train, y_test = train_test_split(X_selected, y, test_size=0.3, random_state=42)\n",
        "\n",
        "# Train a Random Forest Classifier\n",
        "model = RandomForestClassifier(random_state=42)\n",
        "model.fit(X_train, y_train)\n",
        "\n",
        "# Save model for future use\n",
        "import joblib\n",
        "joblib.dump(model, '/content/random_forest_model.pkl')"
      ],
      "metadata": {
        "colab": {
          "base_uri": "https://localhost:8080/"
        },
        "id": "v7oPjsNDutC4",
        "outputId": "16516e23-7e01-4b55-fdc0-b87d7ef94615"
      },
      "execution_count": null,
      "outputs": [
        {
          "output_type": "execute_result",
          "data": {
            "text/plain": [
              "['/content/random_forest_model.pkl']"
            ]
          },
          "metadata": {},
          "execution_count": 6
        }
      ]
    },
    {
      "cell_type": "markdown",
      "source": [
        "# **Model Evaluation**"
      ],
      "metadata": {
        "id": "Zay2AAj076zz"
      }
    },
    {
      "cell_type": "code",
      "source": [
        "# Predictions and evaluation\n",
        "predictions = model.predict(X_test)\n",
        "\n",
        "# Confusion matrix\n",
        "cm = confusion_matrix(y_test, predictions)\n",
        "sns.heatmap(cm, annot=True, fmt='d', cmap='Blues', xticklabels=['Movie', 'TV Show'], yticklabels=['Movie', 'TV Show'])\n",
        "plt.title('Confusion Matrix')\n",
        "plt.xlabel('Predicted')\n",
        "plt.ylabel('Actual')\n",
        "plt.show()\n",
        "\n",
        "# Classification report\n",
        "print(classification_report(y_test, predictions))"
      ],
      "metadata": {
        "colab": {
          "base_uri": "https://localhost:8080/",
          "height": 628
        },
        "id": "dVnj8Zg7uwoT",
        "outputId": "086cc53a-f65c-4fe2-93f0-c8a01c5f88f5"
      },
      "execution_count": null,
      "outputs": [
        {
          "output_type": "display_data",
          "data": {
            "text/plain": [
              "<Figure size 640x480 with 2 Axes>"
            ],
            "image/png": "[encoded data removed]"
          },
          "metadata": {}
        },
        {
          "output_type": "stream",
          "name": "stdout",
          "text": [
            "              precision    recall  f1-score   support\n",
            "\n",
            "           0       1.00      1.00      1.00      1836\n",
            "           1       1.00      1.00      1.00       807\n",
            "\n",
            "    accuracy                           1.00      2643\n",
            "   macro avg       1.00      1.00      1.00      2643\n",
            "weighted avg       1.00      1.00      1.00      2643\n",
            "\n"
          ]
        }
      ]
    },
    {
      "cell_type": "markdown",
      "source": [
        "# **Logistic Regression**"
      ],
      "metadata": {
        "id": "7DbxwzCW8mKD"
      }
    },
    {
      "cell_type": "code",
      "source": [
        "from sklearn.linear_model import LogisticRegression\n",
        "model_lr = LogisticRegression(random_state=42)\n",
        "model_lr.fit(X_train, y_train)\n",
        "predictions_lr = model_lr.predict(X_test)\n",
        "print(classification_report(y_test, predictions_lr))\n"
      ],
      "metadata": {
        "colab": {
          "base_uri": "https://localhost:8080/"
        },
        "id": "NZsuawvqu09f",
        "outputId": "cdb7653f-23ce-4d7d-fc4d-c2c675649a97"
      },
      "execution_count": null,
      "outputs": [
        {
          "output_type": "stream",
          "name": "stdout",
          "text": [
            "              precision    recall  f1-score   support\n",
            "\n",
            "           0       1.00      1.00      1.00      1836\n",
            "           1       1.00      1.00      1.00       807\n",
            "\n",
            "    accuracy                           1.00      2643\n",
            "   macro avg       1.00      1.00      1.00      2643\n",
            "weighted avg       1.00      1.00      1.00      2643\n",
            "\n"
          ]
        }
      ]
    },
    {
      "cell_type": "markdown",
      "source": [
        "# **Support Vector Machine (SVM)**"
      ],
      "metadata": {
        "id": "5xqZnA8-9CBt"
      }
    },
    {
      "cell_type": "code",
      "source": [
        "from sklearn.svm import SVC\n",
        "model_svm = SVC(kernel='linear', random_state=42)\n",
        "model_svm.fit(X_train, y_train)\n",
        "predictions_svm = model_svm.predict(X_test)\n",
        "print(classification_report(y_test, predictions_svm))\n"
      ],
      "metadata": {
        "colab": {
          "base_uri": "https://localhost:8080/"
        },
        "id": "YkfWNaq9vJYQ",
        "outputId": "4c0fe3cb-4abe-4034-f7f9-5d29e8307a47"
      },
      "execution_count": null,
      "outputs": [
        {
          "output_type": "stream",
          "name": "stdout",
          "text": [
            "              precision    recall  f1-score   support\n",
            "\n",
            "           0       1.00      1.00      1.00      1836\n",
            "           1       1.00      1.00      1.00       807\n",
            "\n",
            "    accuracy                           1.00      2643\n",
            "   macro avg       1.00      1.00      1.00      2643\n",
            "weighted avg       1.00      1.00      1.00      2643\n",
            "\n"
          ]
        }
      ]
    },
    {
      "cell_type": "markdown",
      "source": [
        "# **Gradient Boosting**"
      ],
      "metadata": {
        "id": "20B8R2qv9Zzd"
      }
    },
    {
      "cell_type": "code",
      "source": [
        "from xgboost import XGBClassifier\n",
        "model_xgb = XGBClassifier(random_state=42)\n",
        "model_xgb.fit(X_train, y_train)\n",
        "predictions_xgb = model_xgb.predict(X_test)\n",
        "print(classification_report(y_test, predictions_xgb))\n"
      ],
      "metadata": {
        "colab": {
          "base_uri": "https://localhost:8080/"
        },
        "id": "H9ZiPaWsvJ2-",
        "outputId": "d31efe78-30a3-4571-beab-21b0cb0657e2"
      },
      "execution_count": null,
      "outputs": [
        {
          "output_type": "stream",
          "name": "stdout",
          "text": [
            "              precision    recall  f1-score   support\n",
            "\n",
            "           0       1.00      1.00      1.00      1836\n",
            "           1       0.99      1.00      1.00       807\n",
            "\n",
            "    accuracy                           1.00      2643\n",
            "   macro avg       1.00      1.00      1.00      2643\n",
            "weighted avg       1.00      1.00      1.00      2643\n",
            "\n"
          ]
        }
      ]
    },
    {
      "cell_type": "markdown",
      "source": [
        "# **K-Nearest Neighbors (KNN)**"
      ],
      "metadata": {
        "id": "eD1I8D-t9f2X"
      }
    },
    {
      "cell_type": "code",
      "source": [
        "from sklearn.neighbors import KNeighborsClassifier\n",
        "model_knn = KNeighborsClassifier(n_neighbors=5)\n",
        "model_knn.fit(X_train, y_train)\n",
        "predictions_knn = model_knn.predict(X_test)\n",
        "print(classification_report(y_test, predictions_knn))\n"
      ],
      "metadata": {
        "colab": {
          "base_uri": "https://localhost:8080/"
        },
        "id": "SrKisXVrvNTz",
        "outputId": "10ec77ff-7a8b-49c5-edce-b25c0b73cd59"
      },
      "execution_count": null,
      "outputs": [
        {
          "output_type": "stream",
          "name": "stdout",
          "text": [
            "              precision    recall  f1-score   support\n",
            "\n",
            "           0       1.00      1.00      1.00      1836\n",
            "           1       1.00      1.00      1.00       807\n",
            "\n",
            "    accuracy                           1.00      2643\n",
            "   macro avg       1.00      1.00      1.00      2643\n",
            "weighted avg       1.00      1.00      1.00      2643\n",
            "\n"
          ]
        }
      ]
    },
    {
      "cell_type": "code",
      "source": [],
      "metadata": {
        "id": "g9s7ML9dvRCI"
      },
      "execution_count": null,
      "outputs": []
    }
  ]
}